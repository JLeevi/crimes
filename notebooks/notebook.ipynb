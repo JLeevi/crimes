{
 "cells": [
  {
   "cell_type": "code",
   "execution_count": null,
   "metadata": {},
   "outputs": [],
   "source": [
    "import pandas as pd\n",
    "import matplotlib.pyplot as plt\n",
    "from constants.file_paths import FilePaths"
   ]
  },
  {
   "cell_type": "code",
   "execution_count": null,
   "metadata": {},
   "outputs": [],
   "source": [
    "crime_sample_df = pd.read_parquet(FilePaths.crime_parquet_columns_of_interest)\n",
    "crime_sample_df.head()"
   ]
  },
  {
   "cell_type": "code",
   "execution_count": 5,
   "metadata": {},
   "outputs": [],
   "source": [
    "# exclude \"Relationship Unknown\" and \"Victim Was Stranger\" relationships\n",
    "# and \"None/Unknown\" offense category\n",
    "# as they're not informative for the plot.\n",
    "crime_sample_df = crime_sample_df[crime_sample_df[\"relationship\"] != \"Relationship Unknown\"]\n",
    "crime_sample_df = crime_sample_df[crime_sample_df[\"relationship\"] != \"Victim Was Stranger\"]\n",
    "crime_sample_df = crime_sample_df[crime_sample_df[\"offense_category\"] != \"None/Unknown\"]\n",
    "\n",
    "# top_7_offense_category = crime_sample_df[\"offense_category\"].value_counts().nlargest(7).index\n",
    "# crime_sample_df = crime_sample_df[crime_sample_df[\"offense_category\"].isin(top_7_offense_category)]"
   ]
  },
  {
   "cell_type": "code",
   "execution_count": null,
   "metadata": {},
   "outputs": [],
   "source": [
    "def move_legend_outside_plot(ax):\n",
    "    ax.legend(bbox_to_anchor=(1.05, 1), loc='upper left')\n",
    "\n",
    "def add_relationship_labels(ax):\n",
    "    ax.set_title(\"Proportion of Criminal Acts for each Relationship Type\")\n",
    "    ax.set_xlabel(\"Proportion\")\n",
    "    ax.set_ylabel(\"Relationship Type\")\n",
    "\n",
    "fig, ax = plt.subplots()\n",
    "crime_sample_df.groupby(\"relationship\")[\"offense_category\"].value_counts(normalize=True).unstack().plot(kind=\"barh\", stacked=True, ax=ax)\n",
    "move_legend_outside_plot(ax)\n",
    "plt.show()\n",
    "\n",
    "# Exclude \"Assault Offenses\" from the plot\n",
    "crime_sample_df = crime_sample_df[crime_sample_df[\"offense_category\"] != \"Assault Offenses\"]\n",
    "\n",
    "fig, ax = plt.subplots()\n",
    "crime_sample_df.groupby(\"relationship\")[\"offense_category\"].value_counts(normalize=True).unstack().plot(kind=\"barh\", stacked=True, ax=ax)\n",
    "move_legend_outside_plot(ax)\n",
    "plt.show()"
   ]
  },
  {
   "cell_type": "code",
   "execution_count": null,
   "metadata": {},
   "outputs": [],
   "source": [
    "# when offense category is \"Larceny/Theft Offenses\",\n",
    "# do similar plot between relationship and \"property_description\"\n",
    "\n",
    "# exclude \"Other\" property description as it's not informative for the plot.\n",
    "crime_sample_df = crime_sample_df[crime_sample_df[\"property_description\"] != \"Other\"]\n",
    "top_10_property_description = crime_sample_df[crime_sample_df[\"offense_category\"] == \"Larceny/Theft Offenses\"][\"property_description\"].value_counts().nlargest(10).index\n",
    "\n",
    "fig, ax = plt.subplots()\n",
    "crime_sample_df[crime_sample_df[\"property_description\"].isin(top_10_property_description)].groupby(\"relationship\")[\"property_description\"].value_counts(normalize=True).unstack().plot(kind=\"barh\", stacked=True, ax=ax)\n",
    "\n",
    "move_legend_outside_plot(ax)\n",
    "ax.set_title(\"Proportion of Larceny/Theft Offenses for each Relationship Type\")\n",
    "ax.set_xlabel(\"Proportion\")\n",
    "ax.set_ylabel(\"Relationship Type\")\n",
    "plt.show()"
   ]
  },
  {
   "cell_type": "code",
   "execution_count": null,
   "metadata": {},
   "outputs": [],
   "source": [
    "crime_sample_df = pd.read_parquet(FilePaths.crime_parquet_columns_of_interest)\n",
    "crime_sample_df = crime_sample_df[crime_sample_df[\"relationship\"] != \"Relationship Unknown\"]\n",
    "crime_sample_df = crime_sample_df[crime_sample_df[\"relationship\"] != \"Victim Was Stranger\"]\n",
    "crime_sample_df = crime_sample_df[crime_sample_df[\"offense_category\"] != \"None/Unknown\"]\n",
    "\n",
    "out = crime_sample_df.groupby(\"relationship\")[\"offense_category\"].value_counts(normalize=True).unstack()\n",
    "out = out.fillna(0)\n",
    "out.to_dict()"
   ]
  }
 ],
 "metadata": {
  "kernelspec": {
   "display_name": "base",
   "language": "python",
   "name": "python3"
  },
  "language_info": {
   "codemirror_mode": {
    "name": "ipython",
    "version": 3
   },
   "file_extension": ".py",
   "mimetype": "text/x-python",
   "name": "python",
   "nbconvert_exporter": "python",
   "pygments_lexer": "ipython3",
   "version": "3.12.7"
  }
 },
 "nbformat": 4,
 "nbformat_minor": 2
}
