{
 "cells": [
  {
   "cell_type": "code",
   "execution_count": 162,
   "metadata": {},
   "outputs": [],
   "source": [
    "import pandas as pd\n",
    "import matplotlib.pyplot as plt\n",
    "import numpy as np\n",
    "import seaborn as sns\n",
    "from handlers.database import get_crime_relationship_statistics_from_mongo, get_hate_crime_statistics_from_mongo, get_property_statistics_from_mongo"
   ]
  },
  {
   "cell_type": "code",
   "execution_count": 163,
   "metadata": {},
   "outputs": [],
   "source": [
    "relationship_statistics = get_crime_relationship_statistics_from_mongo()\n",
    "relationship_statistics = relationship_statistics[\"statistics\"]\n",
    "relationships = relationship_statistics[\"assaults\"]\n",
    "relationships_normalized = relationship_statistics[\"assaults_normalized\"]\n",
    "relationships_without_assaults = relationship_statistics[\"without_assaults\"]\n",
    "relationships_without_assaults_normalized = relationship_statistics[\"without_assaults_normalized\"]\n",
    "\n",
    "relationship_df = pd.DataFrame(relationships)\n",
    "relationship_df_normalized = pd.DataFrame(relationships_normalized)\n",
    "relationship_df_without_assaults = pd.DataFrame(relationships_without_assaults)\n",
    "relationship_df_without_assaults_normalized = pd.DataFrame(relationships_without_assaults_normalized)"
   ]
  },
  {
   "cell_type": "code",
   "execution_count": 164,
   "metadata": {},
   "outputs": [],
   "source": [
    "def move_legend_outside_plot(ax):\n",
    "    ax.legend(bbox_to_anchor=(1.05, 1), loc='upper left')\n",
    "\n",
    "def add_relationship_labels(ax):\n",
    "    ax.set_title(\"Proportion of Criminal Acts for each Relationship Type\")\n",
    "    ax.set_xlabel(\"Proportion\")\n",
    "    ax.set_ylabel(\"Relationship Type\")"
   ]
  },
  {
   "cell_type": "code",
   "execution_count": 165,
   "metadata": {},
   "outputs": [],
   "source": [
    "def plot_swagger_df(df, title, normalized=False, orientation='h'):\n",
    "    \"\"\"\n",
    "    Create a sleek horizontal stacked bar chart using seaborn and matplotlib.\n",
    "\n",
    "    Parameters:\n",
    "    - df: pd.DataFrame, the data to plot (columns as categories, rows as index)\n",
    "    - title: str, the title of the plot\n",
    "    - normalized: bool, whether to normalize rows to sum to 1\n",
    "    \"\"\"\n",
    "    # Normalize rows if needed\n",
    "    if normalized:\n",
    "        df = df.div(df.sum(axis=1), axis=0)\n",
    "    \n",
    "    # Set a sleek seaborn style\n",
    "    sns.set_theme(style=\"whitegrid\", palette=\"pastel\")\n",
    "    \n",
    "    # Create the figure and axis\n",
    "    fig, ax = plt.subplots(figsize=(12, 7))\n",
    "    \n",
    "    # Get a vibrant color palette for the bars\n",
    "    colors = sns.color_palette(\"husl\", n_colors=df.shape[1])\n",
    "    \n",
    "    # Plot each column as a stacked horizontal bar\n",
    "    bottom = None\n",
    "    for i, column in enumerate(df.columns):\n",
    "        sns.barplot(\n",
    "            x=df[column],\n",
    "            y=df.index,\n",
    "            color=colors[i],\n",
    "            label=column,\n",
    "            orient=orientation,\n",
    "            ax=ax,\n",
    "            left=bottom\n",
    "        )\n",
    "        bottom = df.iloc[:, :i+1].sum(axis=1) if bottom is None else bottom + df[column]\n",
    "    \n",
    "    # Add title with a larger, bold font\n",
    "    ax.set_title(title, fontsize=18, weight='bold', pad=20)\n",
    "    \n",
    "    # Move the legend outside the plot\n",
    "    ax.legend(title=\"Categories\", bbox_to_anchor=(1.05, 1), loc='upper left', frameon=True)\n",
    "    \n",
    "    # Add gridlines and make them more subtle\n",
    "    ax.grid(color='gray', linestyle='--', linewidth=0.5, alpha=0.6)\n",
    "    \n",
    "    # Customize y-axis and x-axis labels\n",
    "    ax.set_ylabel(\"\", fontsize=14)\n",
    "    ax.set_xlabel(\"Proportion\" if normalized else \"Value\", fontsize=14)\n",
    "    \n",
    "    # Tighten layout and show the plot\n",
    "    plt.tight_layout()\n",
    "    plt.show()"
   ]
  },
  {
   "cell_type": "code",
   "execution_count": 166,
   "metadata": {},
   "outputs": [],
   "source": [
    "def plot_swagger_dict(data, title):\n",
    "    \"\"\"\n",
    "    Create a horizontal bar chart from a dictionary.\n",
    "\n",
    "    Parameters:\n",
    "    - data: dict, the data to plot (keys as categories, values as counts)\n",
    "    - title: str, the title of the plot\n",
    "    \"\"\"\n",
    "    # Sort data by values\n",
    "    sorted_data = dict(sorted(data.items(), key=lambda item: item[1], reverse=True))\n",
    "    \n",
    "    # Prepare data for plotting\n",
    "    labels = list(sorted_data.keys())\n",
    "    heights = list(sorted_data.values())\n",
    "    \n",
    "    # Plot using seaborn and matplotlib\n",
    "    sns.set_theme(style=\"whitegrid\", palette=\"pastel\")\n",
    "    fig, ax = plt.subplots(figsize=(12, 7))\n",
    "    sns.barplot(x=heights, y=labels, palette=\"husl\", ax=ax, hue=labels)\n",
    "    \n",
    "    # Add title and labels\n",
    "    ax.set_title(title, fontsize=18, weight=\"bold\", pad=20)\n",
    "    ax.set_xlabel(\"Count\", fontsize=14)\n",
    "    ax.set_ylabel(\"\")  # Remove y-axis label\n",
    "    \n",
    "    # Add value annotations\n",
    "    for i, value in enumerate(heights):\n",
    "        ax.text(\n",
    "            value + max(heights) * 0.01,  # Offset slightly for readability\n",
    "            i,\n",
    "            f\"{int(value)}\",  # Display as integer\n",
    "            va=\"center\", ha=\"left\", fontsize=10, color=\"black\", weight=\"bold\"\n",
    "        )\n",
    "    \n",
    "    plt.tight_layout()\n",
    "    plt.show()\n"
   ]
  },
  {
   "cell_type": "code",
   "execution_count": null,
   "metadata": {},
   "outputs": [],
   "source": [
    "plot_swagger_df(relationship_df, \"Proportion of Criminal Acts for each Relationship Type\", normalized=False)\n",
    "plot_swagger_df(relationship_df_normalized, \"Proportion of Criminal Acts for each Relationship Type (Normalized)\", normalized=True)\n",
    "plot_swagger_df(relationship_df_without_assaults, \"Proportion of Criminal Acts for each Relationship Type (Without Assaults)\", normalized=False)\n",
    "plot_swagger_df(relationship_df_without_assaults_normalized, \"Proportion of Criminal Acts for each Relationship Type (Without Assaults, Normalized)\", normalized=True)"
   ]
  },
  {
   "cell_type": "code",
   "execution_count": null,
   "metadata": {},
   "outputs": [],
   "source": [
    "hate_crime_statistics = get_hate_crime_statistics_from_mongo()\n",
    "offender_counts = hate_crime_statistics[\"offense_counts\"]\n",
    "motive_counts = hate_crime_statistics[\"motive_counts\"]"
   ]
  },
  {
   "cell_type": "code",
   "execution_count": null,
   "metadata": {},
   "outputs": [],
   "source": [
    "plot_swagger_dict(offender_counts, \"Offender Race in Hate Crimes\")\n",
    "plot_swagger_dict(motive_counts, \"Motive in Hate Crimes\")"
   ]
  },
  {
   "cell_type": "code",
   "execution_count": null,
   "metadata": {},
   "outputs": [],
   "source": [
    "def plot_grouped_stats(stats_dict, title):\n",
    "    # Extract means and medians from the dictionary\n",
    "    mean_values = stats_dict['mean']\n",
    "    median_values = stats_dict['median']\n",
    "    \n",
    "    # Set up the plot\n",
    "    fig, ax = plt.subplots(figsize=(10, 6))\n",
    "    \n",
    "    # Positions for bars\n",
    "    positions = np.arange(len(mean_values))\n",
    "    \n",
    "    # Create bars for mean and median\n",
    "    ax.barh(positions - 0.2, list(mean_values.values()), height=0.4, label='Mean', color='skyblue')\n",
    "    ax.barh(positions + 0.2, list(median_values.values()), height=0.4, label='Median', color='salmon')\n",
    "    \n",
    "    # Set labels\n",
    "    ax.set_yticks(positions)\n",
    "    ax.set_yticklabels(list(mean_values.keys()))\n",
    "    ax.set_xlabel(\"Value (in USD)\", fontsize=12)\n",
    "    ax.set_title(title, fontsize=14, weight=\"bold\")\n",
    "    \n",
    "    # Add legend\n",
    "    ax.legend()\n",
    "\n",
    "    # Show plot\n",
    "    plt.tight_layout()\n",
    "    plt.show()"
   ]
  },
  {
   "cell_type": "code",
   "execution_count": null,
   "metadata": {},
   "outputs": [],
   "source": [
    "property_statistics_dict = get_property_statistics_from_mongo()\n",
    "property_statistics = property_statistics_dict[\"property_statistics\"]\n",
    "most_expensive_crimes = property_statistics_dict[\"most_expensive_crimes\"]\n"
   ]
  },
  {
   "cell_type": "code",
   "execution_count": null,
   "metadata": {},
   "outputs": [],
   "source": [
    "plot_grouped_stats(property_statistics, \"Mean vs. Median Damage per Property Damage\")"
   ]
  },
  {
   "cell_type": "code",
   "execution_count": null,
   "metadata": {},
   "outputs": [],
   "source": [
    "from IPython.display import display, HTML\n",
    "\n",
    "html_output = \"<h3>Top 5 Most Expensive Crimes</h3><table><tr><th>#</th><th>Property Value</th><th>Description</th><th>Crime Against</th><th>Location</th></tr>\"\n",
    "\n",
    "for i, crime in enumerate(most_expensive_crimes):\n",
    "    property_value = f\"${round(crime['property_value'] / 1_000_000)}M\"\n",
    "    property_description = crime['property_description']\n",
    "    property_loss_description = crime['property_loss_description']\n",
    "    crime_against = crime['crime_against']\n",
    "    location = crime['location']\n",
    "    \n",
    "    html_output += f\"<tr><td>{i + 1}</td><td>{property_value}</td><td>{property_description} - {property_loss_description}</td><td>{crime_against}</td><td>{location}</td></tr>\"\n",
    "\n",
    "html_output += \"</table>\"\n",
    "display(HTML(html_output))\n"
   ]
  }
 ],
 "metadata": {
  "kernelspec": {
   "display_name": "base",
   "language": "python",
   "name": "python3"
  },
  "language_info": {
   "codemirror_mode": {
    "name": "ipython",
    "version": 3
   },
   "file_extension": ".py",
   "mimetype": "text/x-python",
   "name": "python",
   "nbconvert_exporter": "python",
   "pygments_lexer": "ipython3",
   "version": "3.12.7"
  }
 },
 "nbformat": 4,
 "nbformat_minor": 4
}
