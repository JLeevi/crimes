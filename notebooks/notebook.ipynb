{
 "cells": [
  {
   "cell_type": "code",
   "execution_count": 19,
   "metadata": {},
   "outputs": [],
   "source": [
    "import pandas as pd\n",
    "import matplotlib.pyplot as plt\n",
    "from handlers.database import get_crime_relationship_statistics_from_mongo"
   ]
  },
  {
   "cell_type": "code",
   "execution_count": 20,
   "metadata": {},
   "outputs": [],
   "source": [
    "relationship_statistics = get_crime_relationship_statistics_from_mongo()\n",
    "relationship_statistics = relationship_statistics[\"statistics\"]\n",
    "relationships = relationship_statistics[\"assaults\"]\n",
    "relationships_normalized = relationship_statistics[\"assaults_normalized\"]\n",
    "relationships_without_assaults = relationship_statistics[\"without_assaults\"]\n",
    "relationships_without_assaults_normalized = relationship_statistics[\"without_assaults_normalized\"]\n",
    "\n",
    "relationship_df = pd.DataFrame(relationships)\n",
    "relationship_df_normalized = pd.DataFrame(relationships_normalized)\n",
    "relationship_df_without_assaults = pd.DataFrame(relationships_without_assaults)\n",
    "relationship_df_without_assaults_normalized = pd.DataFrame(relationships_without_assaults_normalized)"
   ]
  },
  {
   "cell_type": "code",
   "execution_count": 21,
   "metadata": {},
   "outputs": [],
   "source": [
    "def move_legend_outside_plot(ax):\n",
    "    ax.legend(bbox_to_anchor=(1.05, 1), loc='upper left')\n",
    "\n",
    "def add_relationship_labels(ax):\n",
    "    ax.set_title(\"Proportion of Criminal Acts for each Relationship Type\")\n",
    "    ax.set_xlabel(\"Proportion\")\n",
    "    ax.set_ylabel(\"Relationship Type\")"
   ]
  },
  {
   "cell_type": "code",
   "execution_count": 22,
   "metadata": {},
   "outputs": [],
   "source": [
    "import seaborn as sns\n",
    "\n",
    "def plot_swagger_df(df, title, normalized=False):\n",
    "    \"\"\"\n",
    "    Create a sleek horizontal stacked bar chart using seaborn and matplotlib.\n",
    "\n",
    "    Parameters:\n",
    "    - df: pd.DataFrame, the data to plot (columns as categories, rows as index)\n",
    "    - title: str, the title of the plot\n",
    "    - normalized: bool, whether to normalize rows to sum to 1\n",
    "    \"\"\"\n",
    "    # Normalize rows if needed\n",
    "    if normalized:\n",
    "        df = df.div(df.sum(axis=1), axis=0)\n",
    "    \n",
    "    # Set a sleek seaborn style\n",
    "    sns.set_theme(style=\"whitegrid\", palette=\"pastel\")\n",
    "    \n",
    "    # Create the figure and axis\n",
    "    fig, ax = plt.subplots(figsize=(12, 7))\n",
    "    \n",
    "    # Get a vibrant color palette for the bars\n",
    "    colors = sns.color_palette(\"husl\", n_colors=df.shape[1])\n",
    "    \n",
    "    # Plot each column as a stacked horizontal bar\n",
    "    bottom = None\n",
    "    for i, column in enumerate(df.columns):\n",
    "        sns.barplot(\n",
    "            x=df[column],\n",
    "            y=df.index,\n",
    "            color=colors[i],\n",
    "            label=column,\n",
    "            orient='h',\n",
    "            ax=ax,\n",
    "            left=bottom\n",
    "        )\n",
    "        bottom = df.iloc[:, :i+1].sum(axis=1) if bottom is None else bottom + df[column]\n",
    "    \n",
    "    # Add title with a larger, bold font\n",
    "    ax.set_title(title, fontsize=18, weight='bold', pad=20)\n",
    "    \n",
    "    # Move the legend outside the plot\n",
    "    ax.legend(title=\"Categories\", bbox_to_anchor=(1.05, 1), loc='upper left', frameon=True)\n",
    "    \n",
    "    # Add gridlines and make them more subtle\n",
    "    ax.grid(color='gray', linestyle='--', linewidth=0.5, alpha=0.6)\n",
    "    \n",
    "    # Customize y-axis and x-axis labels\n",
    "    ax.set_ylabel(\"\", fontsize=14)\n",
    "    ax.set_xlabel(\"Proportion\" if normalized else \"Value\", fontsize=14)\n",
    "    \n",
    "    # Tighten layout and show the plot\n",
    "    plt.tight_layout()\n",
    "    plt.show()"
   ]
  },
  {
   "cell_type": "code",
   "execution_count": 23,
   "metadata": {},
   "outputs": [],
   "source": [
    "import seaborn as sns\n",
    "def plot_df(df, title):\n",
    "    ax = df.plot(kind='barh', stacked=True, figsize=(10, 6), title=title)\n",
    "    move_legend_outside_plot(ax)\n",
    "    add_relationship_labels(ax)\n",
    "    plt.show()"
   ]
  },
  {
   "cell_type": "code",
   "execution_count": null,
   "metadata": {},
   "outputs": [],
   "source": [
    "plot_swagger_df(relationship_df, \"Proportion of Criminal Acts for each Relationship Type\", normalized=False)\n",
    "plot_swagger_df(relationship_df_normalized, \"Proportion of Criminal Acts for each Relationship Type (Normalized)\", normalized=True)\n",
    "plot_swagger_df(relationship_df_without_assaults, \"Proportion of Criminal Acts for each Relationship Type (Without Assaults)\", normalized=False)\n",
    "plot_swagger_df(relationship_df_without_assaults_normalized, \"Proportion of Criminal Acts for each Relationship Type (Without Assaults, Normalized)\", normalized=True)"
   ]
  }
 ],
 "metadata": {
  "kernelspec": {
   "display_name": "base",
   "language": "python",
   "name": "python3"
  },
  "language_info": {
   "codemirror_mode": {
    "name": "ipython",
    "version": 3
   },
   "file_extension": ".py",
   "mimetype": "text/x-python",
   "name": "python",
   "nbconvert_exporter": "python",
   "pygments_lexer": "ipython3",
   "version": "3.12.7"
  }
 },
 "nbformat": 4,
 "nbformat_minor": 4
}
